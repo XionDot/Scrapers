{
 "cells": [
  {
   "cell_type": "code",
   "execution_count": 1,
   "metadata": {},
   "outputs": [],
   "source": [
    "import requests\n",
    "from requests import get\n",
    "from bs4 import BeautifulSoup\n",
    "import pandas as pd\n",
    "import numpy as np"
   ]
  },
  {
   "cell_type": "code",
   "execution_count": 2,
   "metadata": {},
   "outputs": [],
   "source": [
    "headers = {\"Accept-Language\": \"en-US, en;q=0.5\"}"
   ]
  },
  {
   "cell_type": "code",
   "execution_count": 3,
   "metadata": {},
   "outputs": [],
   "source": [
    "url = \"https://www.imdb.com/search/title/?groups=top_1000&ref_=adv_prv\"\n",
    "\n",
    "results = requests.get(url, headers=headers)"
   ]
  },
  {
   "cell_type": "code",
   "execution_count": 4,
   "metadata": {},
   "outputs": [],
   "source": [
    "soup = BeautifulSoup(results.text, \"html.parser\")"
   ]
  },
  {
   "cell_type": "code",
   "execution_count": 5,
   "metadata": {},
   "outputs": [],
   "source": [
    "#initialise empty lists where data is stored\n",
    "titles = []\n",
    "years = []\n",
    "time = []\n",
    "imdb_ratings = []\n",
    "metascores = []\n",
    "votes = []\n",
    "us_gross = []"
   ]
  },
  {
   "cell_type": "code",
   "execution_count": 6,
   "metadata": {},
   "outputs": [],
   "source": [
    "movie_div = soup.find_all('div', class_='lister-item mode-advanced')"
   ]
  },
  {
   "cell_type": "code",
   "execution_count": 7,
   "metadata": {},
   "outputs": [],
   "source": [
    "#initiate for loop\n",
    "#scraper is iterating through every div container stored in the movie_div\n",
    "for container in movie_div:\n",
    "    name = container.h3.a.text\n",
    "    titles.append(name)\n",
    "    \n",
    "    year = container.h3.find('span', class_='lister-item-year').text if container.h3.find('span', class_='lister-item-year') else '-'\n",
    "    years.append(year)\n",
    "    \n",
    "    runtime = container.p.find('span', class_='runtime').text if container.p.find('span', class_='runtime').text else '-'\n",
    "    time.append(runtime)\n",
    "    \n",
    "    imdb = float(container.strong.text) if float(container.strong.text) > 1 else '-'\n",
    "    imdb_ratings.append(imdb)\n",
    "    \n",
    "    m_score = container.find('span', class_='metascore').text if container.find('span', class_='metascore') else '-'\n",
    "    metascores.append(m_score)\n",
    "    \n",
    "    nv = container.find_all('span', attrs={'name': 'nv'})\n",
    "    \n",
    "    vote = nv[0].text if len(nv) > 1 else '-'\n",
    "    votes.append(vote)\n",
    "    \n",
    "    grosses = nv[1].text if len(nv) > 1 else '-'\n",
    "    us_gross.append(grosses)"
   ]
  },
  {
   "cell_type": "code",
   "execution_count": 8,
   "metadata": {},
   "outputs": [
    {
     "name": "stdout",
     "output_type": "stream",
     "text": [
      "['Knives Out', 'The Peanut Butter Falcon', 'Hamilton', 'Inception', 'Joker', 'Jojo Rabbit', 'The Godfather', 'Once Upon a Time... In Hollywood', 'The Gentlemen', 'Dil Bechara', 'Parasite', 'Avengers: Endgame', 'Interstellar', 'Jurassic Park', 'The Shawshank Redemption', \"Harry Potter and the Sorcerer's Stone\", '1917', 'The Wolf of Wall Street', 'The Dark Knight', 'Ford v Ferrari', 'Little Women', 'The Godfather: Part II', 'Inglourious Basterds', 'Guardians of the Galaxy', 'Goodfellas', 'Pulp Fiction', 'The Matrix', 'Gladiator', 'The Silence of the Lambs', 'The Shining', 'The Lord of the Rings: The Fellowship of the Ring', 'Mad Max: Fury Road', 'Pride & Prejudice', 'The Prestige', 'The Dark Knight Rises', 'The Irishman', 'Titanic', 'Django Unchained', 'The Green Mile', 'Fight Club', 'Guardians of the Galaxy Vol. 2', 'Dunkirk', 'Apocalypse Now', 'Back to the Future', 'The Goonies', 'Blade Runner 2049', 'Nightcrawler', 'Moana', 'No Country for Old Men', 'Tombstone']\n",
      "['(2019)', '(2019)', '(2020)', '(2010)', '(2019)', '(2019)', '(1972)', '(2019)', '(2019)', '(2020)', '(2019)', '(2019)', '(2014)', '(1993)', '(1994)', '(2001)', '(2019)', '(2013)', '(2008)', '(2019)', '(2019)', '(1974)', '(2009)', '(2014)', '(1990)', '(1994)', '(1999)', '(2000)', '(1991)', '(1980)', '(2001)', '(2015)', '(2005)', '(2006)', '(2012)', '(2019)', '(1997)', '(2012)', '(1999)', '(1999)', '(2017)', '(2017)', '(1979)', '(1985)', '(1985)', '(2017)', '(2014)', '(I) (2016)', '(2007)', '(1993)']\n",
      "['130 min', '97 min', '160 min', '148 min', '122 min', '108 min', '175 min', '161 min', '113 min', '101 min', '132 min', '181 min', '169 min', '127 min', '142 min', '152 min', '119 min', '180 min', '152 min', '152 min', '135 min', '202 min', '153 min', '121 min', '146 min', '154 min', '136 min', '155 min', '118 min', '146 min', '178 min', '120 min', '129 min', '130 min', '164 min', '209 min', '194 min', '165 min', '189 min', '139 min', '136 min', '106 min', '147 min', '116 min', '114 min', '164 min', '117 min', '107 min', '122 min', '130 min']\n",
      "[7.9, 7.6, 8.8, 8.8, 8.5, 7.9, 9.2, 7.6, 7.9, 8.9, 8.6, 8.4, 8.6, 8.1, 9.3, 7.6, 8.3, 8.2, 9.0, 8.1, 7.8, 9.0, 8.3, 8.0, 8.7, 8.9, 8.7, 8.5, 8.6, 8.4, 8.8, 8.1, 7.8, 8.5, 8.4, 7.9, 7.8, 8.4, 8.6, 8.8, 7.6, 7.9, 8.4, 8.5, 7.8, 8.0, 7.9, 7.6, 8.1, 7.8]\n",
      "['82        ', '70        ', '90        ', '74        ', '59        ', '58        ', '100        ', '83        ', '51        ', '-', '96        ', '78        ', '74        ', '68        ', '80        ', '64        ', '78        ', '75        ', '84        ', '81        ', '91        ', '90        ', '69        ', '76        ', '90        ', '94        ', '73        ', '67        ', '85        ', '66        ', '92        ', '90        ', '82        ', '66        ', '78        ', '94        ', '75        ', '81        ', '61        ', '66        ', '67        ', '94        ', '94        ', '87        ', '62        ', '81        ', '76        ', '81        ', '91        ', '50        ']\n",
      "['372,357', '49,397', '-', '1,998,127', '848,029', '250,673', '1,570,310', '504,144', '-', '-', '466,270', '751,419', '1,445,400', '844,694', '2,275,990', '624,181', '359,545', '1,139,517', '2,238,155', '249,288', '121,178', '1,097,172', '1,228,181', '1,022,285', '990,071', '1,778,044', '1,630,207', '1,306,599', '1,232,454', '868,153', '1,618,205', '855,318', '247,244', '1,153,409', '1,478,540', '303,414', '1,022,294', '1,316,037', '1,110,889', '1,805,265', '549,143', '529,010', '590,510', '1,025,924', '236,650', '440,022', '448,123', '260,340', '830,381', '123,017']\n",
      "['$165.36M', '$13.12M', '-', '$292.58M', '$335.45M', '$0.35M', '$134.97M', '$142.50M', '-', '-', '$53.37M', '$858.37M', '$188.02M', '$402.45M', '$28.34M', '$317.58M', '$159.23M', '$116.90M', '$534.86M', '$117.62M', '$108.10M', '$57.30M', '$120.54M', '$333.18M', '$46.84M', '$107.93M', '$171.48M', '$187.71M', '$130.74M', '$44.02M', '$315.54M', '$154.06M', '$38.41M', '$53.09M', '$448.14M', '$7.00M', '$659.33M', '$162.81M', '$136.80M', '$37.03M', '$389.81M', '$188.37M', '$83.47M', '$210.61M', '$61.50M', '$92.05M', '$32.38M', '$248.76M', '$74.28M', '$56.51M']\n"
     ]
    }
   ],
   "source": [
    "print(titles)\n",
    "print(years)\n",
    "print(time)\n",
    "print(imdb_ratings)\n",
    "print(metascores)\n",
    "print(votes)\n",
    "print(us_gross)"
   ]
  },
  {
   "cell_type": "code",
   "execution_count": 9,
   "metadata": {
    "scrolled": false
   },
   "outputs": [
    {
     "name": "stdout",
     "output_type": "stream",
     "text": [
      "                                                movie       years  timeMin  \\\n",
      "0                                          Knives Out      (2019)  130 min   \n",
      "1                            The Peanut Butter Falcon      (2019)   97 min   \n",
      "2                                            Hamilton      (2020)  160 min   \n",
      "3                                           Inception      (2010)  148 min   \n",
      "4                                               Joker      (2019)  122 min   \n",
      "5                                         Jojo Rabbit      (2019)  108 min   \n",
      "6                                       The Godfather      (1972)  175 min   \n",
      "7                    Once Upon a Time... In Hollywood      (2019)  161 min   \n",
      "8                                       The Gentlemen      (2019)  113 min   \n",
      "9                                         Dil Bechara      (2020)  101 min   \n",
      "10                                           Parasite      (2019)  132 min   \n",
      "11                                  Avengers: Endgame      (2019)  181 min   \n",
      "12                                       Interstellar      (2014)  169 min   \n",
      "13                                      Jurassic Park      (1993)  127 min   \n",
      "14                           The Shawshank Redemption      (1994)  142 min   \n",
      "15              Harry Potter and the Sorcerer's Stone      (2001)  152 min   \n",
      "16                                               1917      (2019)  119 min   \n",
      "17                            The Wolf of Wall Street      (2013)  180 min   \n",
      "18                                    The Dark Knight      (2008)  152 min   \n",
      "19                                     Ford v Ferrari      (2019)  152 min   \n",
      "20                                       Little Women      (2019)  135 min   \n",
      "21                             The Godfather: Part II      (1974)  202 min   \n",
      "22                               Inglourious Basterds      (2009)  153 min   \n",
      "23                            Guardians of the Galaxy      (2014)  121 min   \n",
      "24                                         Goodfellas      (1990)  146 min   \n",
      "25                                       Pulp Fiction      (1994)  154 min   \n",
      "26                                         The Matrix      (1999)  136 min   \n",
      "27                                          Gladiator      (2000)  155 min   \n",
      "28                           The Silence of the Lambs      (1991)  118 min   \n",
      "29                                        The Shining      (1980)  146 min   \n",
      "30  The Lord of the Rings: The Fellowship of the Ring      (2001)  178 min   \n",
      "31                                 Mad Max: Fury Road      (2015)  120 min   \n",
      "32                                  Pride & Prejudice      (2005)  129 min   \n",
      "33                                       The Prestige      (2006)  130 min   \n",
      "34                              The Dark Knight Rises      (2012)  164 min   \n",
      "35                                       The Irishman      (2019)  209 min   \n",
      "36                                            Titanic      (1997)  194 min   \n",
      "37                                   Django Unchained      (2012)  165 min   \n",
      "38                                     The Green Mile      (1999)  189 min   \n",
      "39                                         Fight Club      (1999)  139 min   \n",
      "40                     Guardians of the Galaxy Vol. 2      (2017)  136 min   \n",
      "41                                            Dunkirk      (2017)  106 min   \n",
      "42                                     Apocalypse Now      (1979)  147 min   \n",
      "43                                 Back to the Future      (1985)  116 min   \n",
      "44                                        The Goonies      (1985)  114 min   \n",
      "45                                  Blade Runner 2049      (2017)  164 min   \n",
      "46                                       Nightcrawler      (2014)  117 min   \n",
      "47                                              Moana  (I) (2016)  107 min   \n",
      "48                             No Country for Old Men      (2007)  122 min   \n",
      "49                                          Tombstone      (1993)  130 min   \n",
      "\n",
      "    imdb    metascore      votes us_grossMillions  \n",
      "0    7.9   82            372,357         $165.36M  \n",
      "1    7.6   70             49,397          $13.12M  \n",
      "2    8.8   90                  -                -  \n",
      "3    8.8   74          1,998,127         $292.58M  \n",
      "4    8.5   59            848,029         $335.45M  \n",
      "5    7.9   58            250,673           $0.35M  \n",
      "6    9.2  100          1,570,310         $134.97M  \n",
      "7    7.6   83            504,144         $142.50M  \n",
      "8    7.9   51                  -                -  \n",
      "9    8.9            -          -                -  \n",
      "10   8.6   96            466,270          $53.37M  \n",
      "11   8.4   78            751,419         $858.37M  \n",
      "12   8.6   74          1,445,400         $188.02M  \n",
      "13   8.1   68            844,694         $402.45M  \n",
      "14   9.3   80          2,275,990          $28.34M  \n",
      "15   7.6   64            624,181         $317.58M  \n",
      "16   8.3   78            359,545         $159.23M  \n",
      "17   8.2   75          1,139,517         $116.90M  \n",
      "18   9.0   84          2,238,155         $534.86M  \n",
      "19   8.1   81            249,288         $117.62M  \n",
      "20   7.8   91            121,178         $108.10M  \n",
      "21   9.0   90          1,097,172          $57.30M  \n",
      "22   8.3   69          1,228,181         $120.54M  \n",
      "23   8.0   76          1,022,285         $333.18M  \n",
      "24   8.7   90            990,071          $46.84M  \n",
      "25   8.9   94          1,778,044         $107.93M  \n",
      "26   8.7   73          1,630,207         $171.48M  \n",
      "27   8.5   67          1,306,599         $187.71M  \n",
      "28   8.6   85          1,232,454         $130.74M  \n",
      "29   8.4   66            868,153          $44.02M  \n",
      "30   8.8   92          1,618,205         $315.54M  \n",
      "31   8.1   90            855,318         $154.06M  \n",
      "32   7.8   82            247,244          $38.41M  \n",
      "33   8.5   66          1,153,409          $53.09M  \n",
      "34   8.4   78          1,478,540         $448.14M  \n",
      "35   7.9   94            303,414           $7.00M  \n",
      "36   7.8   75          1,022,294         $659.33M  \n",
      "37   8.4   81          1,316,037         $162.81M  \n",
      "38   8.6   61          1,110,889         $136.80M  \n",
      "39   8.8   66          1,805,265          $37.03M  \n",
      "40   7.6   67            549,143         $389.81M  \n",
      "41   7.9   94            529,010         $188.37M  \n",
      "42   8.4   94            590,510          $83.47M  \n",
      "43   8.5   87          1,025,924         $210.61M  \n",
      "44   7.8   62            236,650          $61.50M  \n",
      "45   8.0   81            440,022          $92.05M  \n",
      "46   7.9   76            448,123          $32.38M  \n",
      "47   7.6   81            260,340         $248.76M  \n",
      "48   8.1   91            830,381          $74.28M  \n",
      "49   7.8   50            123,017          $56.51M  \n"
     ]
    }
   ],
   "source": [
    "movies = pd.DataFrame({\n",
    "    'movie': titles,\n",
    "    'years': years,\n",
    "    'timeMin': time,\n",
    "    'imdb': imdb_ratings,\n",
    "    'metascore': metascores,\n",
    "    'votes': votes,\n",
    "    'us_grossMillions': us_gross\n",
    "                       })\n",
    "print(movies)\n",
    "movies.to_csv('movies.csv')"
   ]
  },
  {
   "cell_type": "code",
   "execution_count": 10,
   "metadata": {},
   "outputs": [
    {
     "name": "stdout",
     "output_type": "stream",
     "text": [
      "movie                object\n",
      "years                object\n",
      "timeMin              object\n",
      "imdb                float64\n",
      "metascore            object\n",
      "votes                object\n",
      "us_grossMillions     object\n",
      "dtype: object\n"
     ]
    }
   ],
   "source": [
    "print(movies.dtypes)"
   ]
  },
  {
   "cell_type": "code",
   "execution_count": 11,
   "metadata": {},
   "outputs": [
    {
     "name": "stdout",
     "output_type": "stream",
     "text": [
      "0     2019\n",
      "1     2019\n",
      "2     2020\n",
      "3     2010\n",
      "4     2019\n",
      "5     2019\n",
      "6     1972\n",
      "7     2019\n",
      "8     2019\n",
      "9     2020\n",
      "10    2019\n",
      "11    2019\n",
      "12    2014\n",
      "13    1993\n",
      "14    1994\n",
      "15    2001\n",
      "16    2019\n",
      "17    2013\n",
      "18    2008\n",
      "19    2019\n",
      "20    2019\n",
      "21    1974\n",
      "22    2009\n",
      "23    2014\n",
      "24    1990\n",
      "25    1994\n",
      "26    1999\n",
      "27    2000\n",
      "28    1991\n",
      "29    1980\n",
      "30    2001\n",
      "31    2015\n",
      "32    2005\n",
      "33    2006\n",
      "34    2012\n",
      "35    2019\n",
      "36    1997\n",
      "37    2012\n",
      "38    1999\n",
      "39    1999\n",
      "40    2017\n",
      "41    2017\n",
      "42    1979\n",
      "43    1985\n",
      "44    1985\n",
      "45    2017\n",
      "46    2014\n",
      "47    2016\n",
      "48    2007\n",
      "49    1993\n",
      "Name: years, dtype: int64\n"
     ]
    }
   ],
   "source": [
    "movies['years'] = movies['years'].str.extract('(\\d+)').astype(int)\n",
    "print(movies['years'])"
   ]
  },
  {
   "cell_type": "code",
   "execution_count": 12,
   "metadata": {},
   "outputs": [],
   "source": [
    "movies['timeMin'] = movies['timeMin'].str.extract('(\\d+)').astype(int)"
   ]
  },
  {
   "cell_type": "code",
   "execution_count": 13,
   "metadata": {},
   "outputs": [
    {
     "ename": "ValueError",
     "evalue": "invalid literal for int() with base 10: '-'",
     "output_type": "error",
     "traceback": [
      "\u001b[0;31m---------------------------------------------------------------------------\u001b[0m",
      "\u001b[0;31mValueError\u001b[0m                                Traceback (most recent call last)",
      "\u001b[0;32m<ipython-input-13-e5e4f9228ab5>\u001b[0m in \u001b[0;36m<module>\u001b[0;34m\u001b[0m\n\u001b[0;32m----> 1\u001b[0;31m \u001b[0mmovies\u001b[0m\u001b[0;34m[\u001b[0m\u001b[0;34m'metascore'\u001b[0m\u001b[0;34m]\u001b[0m \u001b[0;34m=\u001b[0m \u001b[0mmovies\u001b[0m\u001b[0;34m[\u001b[0m\u001b[0;34m'metascore'\u001b[0m\u001b[0;34m]\u001b[0m\u001b[0;34m.\u001b[0m\u001b[0mastype\u001b[0m\u001b[0;34m(\u001b[0m\u001b[0mint\u001b[0m\u001b[0;34m)\u001b[0m\u001b[0;34m\u001b[0m\u001b[0;34m\u001b[0m\u001b[0m\n\u001b[0m\u001b[1;32m      2\u001b[0m \u001b[0mmovies\u001b[0m\u001b[0;34m[\u001b[0m\u001b[0;34m'votes'\u001b[0m\u001b[0;34m]\u001b[0m \u001b[0;34m=\u001b[0m \u001b[0mmovies\u001b[0m\u001b[0;34m[\u001b[0m\u001b[0;34m'votes'\u001b[0m\u001b[0;34m]\u001b[0m\u001b[0;34m.\u001b[0m\u001b[0mstr\u001b[0m\u001b[0;34m.\u001b[0m\u001b[0mextract\u001b[0m\u001b[0;34m(\u001b[0m\u001b[0;34m','\u001b[0m\u001b[0;34m,\u001b[0m \u001b[0;34m''\u001b[0m\u001b[0;34m)\u001b[0m\u001b[0;34m.\u001b[0m\u001b[0mastype\u001b[0m\u001b[0;34m(\u001b[0m\u001b[0mint\u001b[0m\u001b[0;34m)\u001b[0m\u001b[0;34m\u001b[0m\u001b[0;34m\u001b[0m\u001b[0m\n",
      "\u001b[0;32m~/anaconda3/lib/python3.7/site-packages/pandas/core/generic.py\u001b[0m in \u001b[0;36mastype\u001b[0;34m(self, dtype, copy, errors)\u001b[0m\n\u001b[1;32m   5535\u001b[0m         \u001b[0;32melse\u001b[0m\u001b[0;34m:\u001b[0m\u001b[0;34m\u001b[0m\u001b[0;34m\u001b[0m\u001b[0m\n\u001b[1;32m   5536\u001b[0m             \u001b[0;31m# else, only a single dtype is given\u001b[0m\u001b[0;34m\u001b[0m\u001b[0;34m\u001b[0m\u001b[0;34m\u001b[0m\u001b[0m\n\u001b[0;32m-> 5537\u001b[0;31m             \u001b[0mnew_data\u001b[0m \u001b[0;34m=\u001b[0m \u001b[0mself\u001b[0m\u001b[0;34m.\u001b[0m\u001b[0m_mgr\u001b[0m\u001b[0;34m.\u001b[0m\u001b[0mastype\u001b[0m\u001b[0;34m(\u001b[0m\u001b[0mdtype\u001b[0m\u001b[0;34m=\u001b[0m\u001b[0mdtype\u001b[0m\u001b[0;34m,\u001b[0m \u001b[0mcopy\u001b[0m\u001b[0;34m=\u001b[0m\u001b[0mcopy\u001b[0m\u001b[0;34m,\u001b[0m \u001b[0merrors\u001b[0m\u001b[0;34m=\u001b[0m\u001b[0merrors\u001b[0m\u001b[0;34m,\u001b[0m\u001b[0;34m)\u001b[0m\u001b[0;34m\u001b[0m\u001b[0;34m\u001b[0m\u001b[0m\n\u001b[0m\u001b[1;32m   5538\u001b[0m             \u001b[0;32mreturn\u001b[0m \u001b[0mself\u001b[0m\u001b[0;34m.\u001b[0m\u001b[0m_constructor\u001b[0m\u001b[0;34m(\u001b[0m\u001b[0mnew_data\u001b[0m\u001b[0;34m)\u001b[0m\u001b[0;34m.\u001b[0m\u001b[0m__finalize__\u001b[0m\u001b[0;34m(\u001b[0m\u001b[0mself\u001b[0m\u001b[0;34m,\u001b[0m \u001b[0mmethod\u001b[0m\u001b[0;34m=\u001b[0m\u001b[0;34m\"astype\"\u001b[0m\u001b[0;34m)\u001b[0m\u001b[0;34m\u001b[0m\u001b[0;34m\u001b[0m\u001b[0m\n\u001b[1;32m   5539\u001b[0m \u001b[0;34m\u001b[0m\u001b[0m\n",
      "\u001b[0;32m~/anaconda3/lib/python3.7/site-packages/pandas/core/internals/managers.py\u001b[0m in \u001b[0;36mastype\u001b[0;34m(self, dtype, copy, errors)\u001b[0m\n\u001b[1;32m    593\u001b[0m         \u001b[0mself\u001b[0m\u001b[0;34m,\u001b[0m \u001b[0mdtype\u001b[0m\u001b[0;34m,\u001b[0m \u001b[0mcopy\u001b[0m\u001b[0;34m:\u001b[0m \u001b[0mbool\u001b[0m \u001b[0;34m=\u001b[0m \u001b[0;32mFalse\u001b[0m\u001b[0;34m,\u001b[0m \u001b[0merrors\u001b[0m\u001b[0;34m:\u001b[0m \u001b[0mstr\u001b[0m \u001b[0;34m=\u001b[0m \u001b[0;34m\"raise\"\u001b[0m\u001b[0;34m\u001b[0m\u001b[0;34m\u001b[0m\u001b[0m\n\u001b[1;32m    594\u001b[0m     ) -> \"BlockManager\":\n\u001b[0;32m--> 595\u001b[0;31m         \u001b[0;32mreturn\u001b[0m \u001b[0mself\u001b[0m\u001b[0;34m.\u001b[0m\u001b[0mapply\u001b[0m\u001b[0;34m(\u001b[0m\u001b[0;34m\"astype\"\u001b[0m\u001b[0;34m,\u001b[0m \u001b[0mdtype\u001b[0m\u001b[0;34m=\u001b[0m\u001b[0mdtype\u001b[0m\u001b[0;34m,\u001b[0m \u001b[0mcopy\u001b[0m\u001b[0;34m=\u001b[0m\u001b[0mcopy\u001b[0m\u001b[0;34m,\u001b[0m \u001b[0merrors\u001b[0m\u001b[0;34m=\u001b[0m\u001b[0merrors\u001b[0m\u001b[0;34m)\u001b[0m\u001b[0;34m\u001b[0m\u001b[0;34m\u001b[0m\u001b[0m\n\u001b[0m\u001b[1;32m    596\u001b[0m \u001b[0;34m\u001b[0m\u001b[0m\n\u001b[1;32m    597\u001b[0m     def convert(\n",
      "\u001b[0;32m~/anaconda3/lib/python3.7/site-packages/pandas/core/internals/managers.py\u001b[0m in \u001b[0;36mapply\u001b[0;34m(self, f, align_keys, **kwargs)\u001b[0m\n\u001b[1;32m    404\u001b[0m                 \u001b[0mapplied\u001b[0m \u001b[0;34m=\u001b[0m \u001b[0mb\u001b[0m\u001b[0;34m.\u001b[0m\u001b[0mapply\u001b[0m\u001b[0;34m(\u001b[0m\u001b[0mf\u001b[0m\u001b[0;34m,\u001b[0m \u001b[0;34m**\u001b[0m\u001b[0mkwargs\u001b[0m\u001b[0;34m)\u001b[0m\u001b[0;34m\u001b[0m\u001b[0;34m\u001b[0m\u001b[0m\n\u001b[1;32m    405\u001b[0m             \u001b[0;32melse\u001b[0m\u001b[0;34m:\u001b[0m\u001b[0;34m\u001b[0m\u001b[0;34m\u001b[0m\u001b[0m\n\u001b[0;32m--> 406\u001b[0;31m                 \u001b[0mapplied\u001b[0m \u001b[0;34m=\u001b[0m \u001b[0mgetattr\u001b[0m\u001b[0;34m(\u001b[0m\u001b[0mb\u001b[0m\u001b[0;34m,\u001b[0m \u001b[0mf\u001b[0m\u001b[0;34m)\u001b[0m\u001b[0;34m(\u001b[0m\u001b[0;34m**\u001b[0m\u001b[0mkwargs\u001b[0m\u001b[0;34m)\u001b[0m\u001b[0;34m\u001b[0m\u001b[0;34m\u001b[0m\u001b[0m\n\u001b[0m\u001b[1;32m    407\u001b[0m             \u001b[0mresult_blocks\u001b[0m \u001b[0;34m=\u001b[0m \u001b[0m_extend_blocks\u001b[0m\u001b[0;34m(\u001b[0m\u001b[0mapplied\u001b[0m\u001b[0;34m,\u001b[0m \u001b[0mresult_blocks\u001b[0m\u001b[0;34m)\u001b[0m\u001b[0;34m\u001b[0m\u001b[0;34m\u001b[0m\u001b[0m\n\u001b[1;32m    408\u001b[0m \u001b[0;34m\u001b[0m\u001b[0m\n",
      "\u001b[0;32m~/anaconda3/lib/python3.7/site-packages/pandas/core/internals/blocks.py\u001b[0m in \u001b[0;36mastype\u001b[0;34m(self, dtype, copy, errors)\u001b[0m\n\u001b[1;32m    587\u001b[0m             \u001b[0mvals1d\u001b[0m \u001b[0;34m=\u001b[0m \u001b[0mvalues\u001b[0m\u001b[0;34m.\u001b[0m\u001b[0mravel\u001b[0m\u001b[0;34m(\u001b[0m\u001b[0;34m)\u001b[0m\u001b[0;34m\u001b[0m\u001b[0;34m\u001b[0m\u001b[0m\n\u001b[1;32m    588\u001b[0m             \u001b[0;32mtry\u001b[0m\u001b[0;34m:\u001b[0m\u001b[0;34m\u001b[0m\u001b[0;34m\u001b[0m\u001b[0m\n\u001b[0;32m--> 589\u001b[0;31m                 \u001b[0mvalues\u001b[0m \u001b[0;34m=\u001b[0m \u001b[0mastype_nansafe\u001b[0m\u001b[0;34m(\u001b[0m\u001b[0mvals1d\u001b[0m\u001b[0;34m,\u001b[0m \u001b[0mdtype\u001b[0m\u001b[0;34m,\u001b[0m \u001b[0mcopy\u001b[0m\u001b[0;34m=\u001b[0m\u001b[0;32mTrue\u001b[0m\u001b[0;34m)\u001b[0m\u001b[0;34m\u001b[0m\u001b[0;34m\u001b[0m\u001b[0m\n\u001b[0m\u001b[1;32m    590\u001b[0m             \u001b[0;32mexcept\u001b[0m \u001b[0;34m(\u001b[0m\u001b[0mValueError\u001b[0m\u001b[0;34m,\u001b[0m \u001b[0mTypeError\u001b[0m\u001b[0;34m)\u001b[0m\u001b[0;34m:\u001b[0m\u001b[0;34m\u001b[0m\u001b[0;34m\u001b[0m\u001b[0m\n\u001b[1;32m    591\u001b[0m                 \u001b[0;31m# e.g. astype_nansafe can fail on object-dtype of strings\u001b[0m\u001b[0;34m\u001b[0m\u001b[0;34m\u001b[0m\u001b[0;34m\u001b[0m\u001b[0m\n",
      "\u001b[0;32m~/anaconda3/lib/python3.7/site-packages/pandas/core/dtypes/cast.py\u001b[0m in \u001b[0;36mastype_nansafe\u001b[0;34m(arr, dtype, copy, skipna)\u001b[0m\n\u001b[1;32m    964\u001b[0m         \u001b[0;31m# work around NumPy brokenness, #1987\u001b[0m\u001b[0;34m\u001b[0m\u001b[0;34m\u001b[0m\u001b[0;34m\u001b[0m\u001b[0m\n\u001b[1;32m    965\u001b[0m         \u001b[0;32mif\u001b[0m \u001b[0mnp\u001b[0m\u001b[0;34m.\u001b[0m\u001b[0missubdtype\u001b[0m\u001b[0;34m(\u001b[0m\u001b[0mdtype\u001b[0m\u001b[0;34m.\u001b[0m\u001b[0mtype\u001b[0m\u001b[0;34m,\u001b[0m \u001b[0mnp\u001b[0m\u001b[0;34m.\u001b[0m\u001b[0minteger\u001b[0m\u001b[0;34m)\u001b[0m\u001b[0;34m:\u001b[0m\u001b[0;34m\u001b[0m\u001b[0;34m\u001b[0m\u001b[0m\n\u001b[0;32m--> 966\u001b[0;31m             \u001b[0;32mreturn\u001b[0m \u001b[0mlib\u001b[0m\u001b[0;34m.\u001b[0m\u001b[0mastype_intsafe\u001b[0m\u001b[0;34m(\u001b[0m\u001b[0marr\u001b[0m\u001b[0;34m.\u001b[0m\u001b[0mravel\u001b[0m\u001b[0;34m(\u001b[0m\u001b[0;34m)\u001b[0m\u001b[0;34m,\u001b[0m \u001b[0mdtype\u001b[0m\u001b[0;34m)\u001b[0m\u001b[0;34m.\u001b[0m\u001b[0mreshape\u001b[0m\u001b[0;34m(\u001b[0m\u001b[0marr\u001b[0m\u001b[0;34m.\u001b[0m\u001b[0mshape\u001b[0m\u001b[0;34m)\u001b[0m\u001b[0;34m\u001b[0m\u001b[0;34m\u001b[0m\u001b[0m\n\u001b[0m\u001b[1;32m    967\u001b[0m \u001b[0;34m\u001b[0m\u001b[0m\n\u001b[1;32m    968\u001b[0m         \u001b[0;31m# if we have a datetime/timedelta array of objects\u001b[0m\u001b[0;34m\u001b[0m\u001b[0;34m\u001b[0m\u001b[0;34m\u001b[0m\u001b[0m\n",
      "\u001b[0;32mpandas/_libs/lib.pyx\u001b[0m in \u001b[0;36mpandas._libs.lib.astype_intsafe\u001b[0;34m()\u001b[0m\n",
      "\u001b[0;31mValueError\u001b[0m: invalid literal for int() with base 10: '-'"
     ]
    }
   ],
   "source": [
    "movies['metascore'] = movies['metascore'].astype(int)\n",
    "movies['votes'] = movies['votes'].str.extract(',', '').astype(int)"
   ]
  }
 ],
 "metadata": {
  "kernelspec": {
   "display_name": "Python 3",
   "language": "python",
   "name": "python3"
  },
  "language_info": {
   "codemirror_mode": {
    "name": "ipython",
    "version": 3
   },
   "file_extension": ".py",
   "mimetype": "text/x-python",
   "name": "python",
   "nbconvert_exporter": "python",
   "pygments_lexer": "ipython3",
   "version": "3.7.9"
  }
 },
 "nbformat": 4,
 "nbformat_minor": 4
}
